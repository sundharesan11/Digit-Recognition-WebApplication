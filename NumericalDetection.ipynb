{
  "cells": [
    {
      "cell_type": "markdown",
      "metadata": {
        "id": "lqcoqqrnOHxa"
      },
      "source": [
        "# **WebApp Deploying with Machine Learning model using tensorflow.js**"
      ]
    },
    {
      "cell_type": "markdown",
      "metadata": {
        "id": "XgxqU49pNXVY"
      },
      "source": [
        "Importing libraries"
      ]
    },
    {
      "cell_type": "code",
      "execution_count": 1,
      "metadata": {
        "id": "vTf_VR9TOu9P"
      },
      "outputs": [],
      "source": [
        "import pandas as pd\n",
        "import numpy as np\n",
        "import matplotlib.pyplot as plt\n",
        "import tensorflow as tf\n",
        "from keras.datasets import mnist\n",
        "from keras.utils import np_utils\n",
        "from keras.layers import Dense, Activation, Dropout, Flatten, MaxPooling2D,Conv2D\n",
        "from keras.models import Sequential, load_model"
      ]
    },
    {
      "cell_type": "markdown",
      "metadata": {
        "id": "fpvMXbBVSsBE"
      },
      "source": [
        "Loading the dataset into training and test variable"
      ]
    },
    {
      "cell_type": "code",
      "execution_count": 2,
      "metadata": {
        "id": "DUIwMG7-Q9pB"
      },
      "outputs": [
        {
          "name": "stdout",
          "output_type": "stream",
          "text": [
            "Downloading data from https://storage.googleapis.com/tensorflow/tf-keras-datasets/mnist.npz\n",
            "11490434/11490434 [==============================] - 1s 0us/step\n"
          ]
        }
      ],
      "source": [
        "(x_train, y_train), (x_test, y_test) = mnist.load_data()"
      ]
    },
    {
      "cell_type": "markdown",
      "metadata": {
        "id": "noX7mIP-Sy3p"
      },
      "source": [
        "Viewing the shape of the train  and test data"
      ]
    },
    {
      "cell_type": "code",
      "execution_count": 3,
      "metadata": {
        "colab": {
          "base_uri": "https://localhost:8080/"
        },
        "id": "Dj1jG6fxSpSH",
        "outputId": "5b0168c8-4264-4ee6-bef1-a14f41ce008a"
      },
      "outputs": [
        {
          "name": "stdout",
          "output_type": "stream",
          "text": [
            "X_train: (60000, 28, 28)\n",
            "Y_train: (60000,)\n",
            "X_test: (10000, 28, 28)\n",
            "Y_test: (10000,)\n"
          ]
        }
      ],
      "source": [
        "print(\"X_train:\", x_train.shape)\n",
        "print(\"Y_train:\", y_train.shape)\n",
        "print(\"X_test:\", x_test.shape)\n",
        "print(\"Y_test:\", y_test.shape)"
      ]
    },
    {
      "cell_type": "markdown",
      "metadata": {
        "id": "D2c9vSy-UrCa"
      },
      "source": [
        "## About dataset:\n",
        "> MNIST is a simple computer vision dataset. It consists of 28x28 pixel images of handwritten digits.\n",
        "\n",
        "\n",
        ">training data: 60000 samples\n",
        "\n",
        ">test data: 10000 samples"
      ]
    },
    {
      "cell_type": "code",
      "execution_count": 4,
      "metadata": {
        "colab": {
          "base_uri": "https://localhost:8080/",
          "height": 463
        },
        "id": "wuq2zZgJTAxL",
        "outputId": "32b9e46c-06b2-4472-b91f-412fbe02d269"
      },
      "outputs": [
        {
          "data": {
            "image/png": "[encoded data removed]",
            "text/plain": [
              "<Figure size 432x288 with 9 Axes>"
            ]
          },
          "metadata": {},
          "output_type": "display_data"
        }
      ],
      "source": [
        "fig = plt.figure()\n",
        "for i in range(9):\n",
        "  plt.subplot(3,3, i+1)\n",
        "  plt.tight_layout()\n",
        "  plt.imshow(x_train[i])\n",
        "  plt.title(\"Digit: {}\".format(y_train[i]))\n",
        "  plt.xticks([])\n",
        "  plt.yticks([])"
      ]
    },
    {
      "cell_type": "markdown",
      "metadata": {
        "id": "ZHOIxp34c0kL"
      },
      "source": [
        "## Data Preprocessing:\n",
        "> 1) Normalizing the data\n",
        "\n",
        "> 2) Encode the categories using one-hot encoding"
      ]
    },
    {
      "cell_type": "code",
      "execution_count": 5,
      "metadata": {
        "id": "URO093c5WWaS"
      },
      "outputs": [],
      "source": [
        "# Normalization\n",
        "x_train = x_train/255\n",
        "x_test = x_test/255"
      ]
    },
    {
      "cell_type": "code",
      "execution_count": null,
      "metadata": {
        "id": "P0DBq9JagGMk"
      },
      "outputs": [],
      "source": []
    },
    {
      "cell_type": "code",
      "execution_count": 6,
      "metadata": {
        "colab": {
          "base_uri": "https://localhost:8080/"
        },
        "id": "RCLeZx3PauVz",
        "outputId": "970c441f-9d4e-4511-ae1c-72e28c3fd8e5"
      },
      "outputs": [
        {
          "name": "stdout",
          "output_type": "stream",
          "text": [
            "[0 1 2 3 4 5 6 7 8 9]\n",
            "10\n"
          ]
        }
      ],
      "source": [
        "print(np.unique(y_train))\n",
        "print(len(np.unique(y_train)))"
      ]
    },
    {
      "cell_type": "markdown",
      "metadata": {
        "id": "8raEhg8ugmqn"
      },
      "source": [
        "**one-hot encodin from np_utils of keras**"
      ]
    },
    {
      "cell_type": "code",
      "execution_count": 7,
      "metadata": {
        "colab": {
          "base_uri": "https://localhost:8080/"
        },
        "id": "X_nqae_Wfw7n",
        "outputId": "20886205-1aa5-45b4-e9e3-b1898bc68ffd"
      },
      "outputs": [
        {
          "name": "stdout",
          "output_type": "stream",
          "text": [
            "Shape of y_train before encoding:  (60000,)\n",
            "Shape of y_train after encoding:  (60000, 10)\n"
          ]
        }
      ],
      "source": [
        "num_class = 10\n",
        "print(\"Shape of y_train before encoding: \", y_train.shape)\n",
        "y_train = np_utils.to_categorical(y_train)\n",
        "y_test = np_utils.to_categorical(y_test)\n",
        "print(\"Shape of y_train after encoding: \", y_train.shape)"
      ]
    },
    {
      "cell_type": "markdown",
      "metadata": {
        "id": "vSR8vyje0kZw"
      },
      "source": [
        "### **Building the network**"
      ]
    },
    {
      "cell_type": "markdown",
      "metadata": {
        "id": "sjToNJjk1Mfl"
      },
      "source": [
        "The sequential model has two hidden 512 node layers and another densely connected layer for the 10 different output classes"
      ]
    },
    {
      "cell_type": "code",
      "execution_count": 8,
      "metadata": {
        "id": "-sX_d5u80fPL"
      },
      "outputs": [],
      "source": [
        "x_train_deep_model = x_train.reshape((60000, 28, 28, 1)).astype('float32')\n",
        "x_test_deep_model = x_test.reshape((10000, 28, 28, 1)).astype('float32')\n",
        "deep_model = Sequential()\n",
        "deep_model.add(Conv2D(30, (5, 5), input_shape=(28, 28, 1), activation='relu'))\n",
        "deep_model.add(MaxPooling2D())\n",
        "deep_model.add(Conv2D(15, (3, 3), activation='relu'))\n",
        "deep_model.add(MaxPooling2D())\n",
        "deep_model.add(Dropout(0.2))\n",
        "deep_model.add(Flatten())\n",
        "deep_model.add(Dense(128, activation='relu'))\n",
        "deep_model.add(Dense(50, activation='relu'))\n",
        "deep_model.add(Dense(num_class, activation='softmax'))\n"
      ]
    },
    {
      "cell_type": "markdown",
      "metadata": {
        "id": "yXeASiG22JnF"
      },
      "source": [
        "### Compiling and training the model"
      ]
    },
    {
      "cell_type": "code",
      "execution_count": 9,
      "metadata": {
        "id": "2FpS2AFD2IPu"
      },
      "outputs": [],
      "source": [
        "deep_model.compile(loss='categorical_crossentropy', optimizer='adam', metrics=['accuracy'])\n"
      ]
    },
    {
      "cell_type": "code",
      "execution_count": 11,
      "metadata": {
        "colab": {
          "base_uri": "https://localhost:8080/"
        },
        "id": "bq5PVbec2ZMR",
        "outputId": "771d9d4a-22a3-4133-fec9-5a55db953f84"
      },
      "outputs": [
        {
          "name": "stdout",
          "output_type": "stream",
          "text": [
            "Epoch 1/30\n",
            "300/300 - 18s - loss: 0.0427 - accuracy: 0.9865 - val_loss: 0.0259 - val_accuracy: 0.9913 - 18s/epoch - 59ms/step\n",
            "Epoch 2/30\n",
            "300/300 - 20s - loss: 0.0352 - accuracy: 0.9889 - val_loss: 0.0276 - val_accuracy: 0.9915 - 20s/epoch - 65ms/step\n",
            "Epoch 3/30\n",
            "300/300 - 14s - loss: 0.0329 - accuracy: 0.9895 - val_loss: 0.0247 - val_accuracy: 0.9916 - 14s/epoch - 47ms/step\n",
            "Epoch 4/30\n",
            "300/300 - 14s - loss: 0.0307 - accuracy: 0.9905 - val_loss: 0.0226 - val_accuracy: 0.9925 - 14s/epoch - 46ms/step\n",
            "Epoch 5/30\n",
            "300/300 - 14s - loss: 0.0282 - accuracy: 0.9907 - val_loss: 0.0227 - val_accuracy: 0.9926 - 14s/epoch - 46ms/step\n",
            "Epoch 6/30\n",
            "300/300 - 14s - loss: 0.0269 - accuracy: 0.9912 - val_loss: 0.0237 - val_accuracy: 0.9920 - 14s/epoch - 48ms/step\n",
            "Epoch 7/30\n",
            "300/300 - 15s - loss: 0.0241 - accuracy: 0.9923 - val_loss: 0.0226 - val_accuracy: 0.9925 - 15s/epoch - 50ms/step\n",
            "Epoch 8/30\n",
            "300/300 - 15s - loss: 0.0222 - accuracy: 0.9927 - val_loss: 0.0204 - val_accuracy: 0.9932 - 15s/epoch - 51ms/step\n",
            "Epoch 9/30\n",
            "300/300 - 15s - loss: 0.0228 - accuracy: 0.9925 - val_loss: 0.0250 - val_accuracy: 0.9915 - 15s/epoch - 50ms/step\n",
            "Epoch 10/30\n",
            "300/300 - 15s - loss: 0.0206 - accuracy: 0.9932 - val_loss: 0.0212 - val_accuracy: 0.9923 - 15s/epoch - 51ms/step\n",
            "Epoch 11/30\n",
            "300/300 - 15s - loss: 0.0192 - accuracy: 0.9938 - val_loss: 0.0206 - val_accuracy: 0.9932 - 15s/epoch - 50ms/step\n",
            "Epoch 12/30\n",
            "300/300 - 15s - loss: 0.0184 - accuracy: 0.9938 - val_loss: 0.0255 - val_accuracy: 0.9923 - 15s/epoch - 49ms/step\n",
            "Epoch 13/30\n",
            "300/300 - 15s - loss: 0.0165 - accuracy: 0.9942 - val_loss: 0.0234 - val_accuracy: 0.9924 - 15s/epoch - 49ms/step\n",
            "Epoch 14/30\n",
            "300/300 - 15s - loss: 0.0173 - accuracy: 0.9943 - val_loss: 0.0216 - val_accuracy: 0.9933 - 15s/epoch - 49ms/step\n",
            "Epoch 15/30\n",
            "300/300 - 14s - loss: 0.0159 - accuracy: 0.9945 - val_loss: 0.0228 - val_accuracy: 0.9924 - 14s/epoch - 47ms/step\n",
            "Epoch 16/30\n",
            "300/300 - 15s - loss: 0.0151 - accuracy: 0.9949 - val_loss: 0.0211 - val_accuracy: 0.9935 - 15s/epoch - 49ms/step\n",
            "Epoch 17/30\n",
            "300/300 - 15s - loss: 0.0138 - accuracy: 0.9953 - val_loss: 0.0180 - val_accuracy: 0.9943 - 15s/epoch - 48ms/step\n",
            "Epoch 18/30\n",
            "300/300 - 14s - loss: 0.0136 - accuracy: 0.9954 - val_loss: 0.0224 - val_accuracy: 0.9938 - 14s/epoch - 48ms/step\n",
            "Epoch 19/30\n",
            "300/300 - 14s - loss: 0.0121 - accuracy: 0.9960 - val_loss: 0.0247 - val_accuracy: 0.9925 - 14s/epoch - 46ms/step\n",
            "Epoch 20/30\n",
            "300/300 - 14s - loss: 0.0125 - accuracy: 0.9955 - val_loss: 0.0214 - val_accuracy: 0.9936 - 14s/epoch - 45ms/step\n",
            "Epoch 21/30\n",
            "300/300 - 13s - loss: 0.0126 - accuracy: 0.9958 - val_loss: 0.0252 - val_accuracy: 0.9929 - 13s/epoch - 44ms/step\n",
            "Epoch 22/30\n",
            "300/300 - 13s - loss: 0.0118 - accuracy: 0.9961 - val_loss: 0.0250 - val_accuracy: 0.9933 - 13s/epoch - 43ms/step\n",
            "Epoch 23/30\n",
            "300/300 - 13s - loss: 0.0101 - accuracy: 0.9966 - val_loss: 0.0248 - val_accuracy: 0.9933 - 13s/epoch - 42ms/step\n",
            "Epoch 24/30\n",
            "300/300 - 13s - loss: 0.0113 - accuracy: 0.9959 - val_loss: 0.0221 - val_accuracy: 0.9936 - 13s/epoch - 43ms/step\n",
            "Epoch 25/30\n",
            "300/300 - 13s - loss: 0.0119 - accuracy: 0.9958 - val_loss: 0.0294 - val_accuracy: 0.9910 - 13s/epoch - 43ms/step\n",
            "Epoch 26/30\n",
            "300/300 - 13s - loss: 0.0095 - accuracy: 0.9966 - val_loss: 0.0245 - val_accuracy: 0.9926 - 13s/epoch - 44ms/step\n",
            "Epoch 27/30\n",
            "300/300 - 13s - loss: 0.0091 - accuracy: 0.9967 - val_loss: 0.0250 - val_accuracy: 0.9927 - 13s/epoch - 43ms/step\n",
            "Epoch 28/30\n",
            "300/300 - 13s - loss: 0.0097 - accuracy: 0.9967 - val_loss: 0.0252 - val_accuracy: 0.9924 - 13s/epoch - 43ms/step\n",
            "Epoch 29/30\n",
            "300/300 - 13s - loss: 0.0088 - accuracy: 0.9971 - val_loss: 0.0241 - val_accuracy: 0.9931 - 13s/epoch - 44ms/step\n",
            "Epoch 30/30\n",
            "300/300 - 13s - loss: 0.0067 - accuracy: 0.9978 - val_loss: 0.0269 - val_accuracy: 0.9930 - 13s/epoch - 43ms/step\n"
          ]
        },
        {
          "data": {
            "text/plain": [
              "<keras.callbacks.History at 0x2197b3f6760>"
            ]
          },
          "execution_count": 11,
          "metadata": {},
          "output_type": "execute_result"
        }
      ],
      "source": [
        "deep_model.fit(x_train_deep_model, y_train, validation_data=(x_test_deep_model, y_test), epochs=30, batch_size=200, verbose=2)"
      ]
    },
    {
      "cell_type": "code",
      "execution_count": 12,
      "metadata": {
        "id": "tr5iIcWi22sc"
      },
      "outputs": [],
      "source": [
        "deep_model.save(\"model.h5\")"
      ]
    },
    {
      "cell_type": "code",
      "execution_count": null,
      "metadata": {
        "id": "yYsUnMfX3xIl"
      },
      "outputs": [],
      "source": []
    },
    {
      "cell_type": "markdown",
      "metadata": {
        "id": "ePu5tNGm4Oek"
      },
      "source": [
        "Converting the model to use with tensorflow.js"
      ]
    },
    {
      "cell_type": "code",
      "execution_count": null,
      "metadata": {
        "colab": {
          "base_uri": "https://localhost:8080/"
        },
        "id": "ENSYZ7mh4aIW",
        "outputId": "8d880465-5f18-43f9-fd32-d39023f5db10"
      },
      "outputs": [],
      "source": []
    },
    {
      "cell_type": "code",
      "execution_count": 13,
      "metadata": {
        "colab": {
          "base_uri": "https://localhost:8080/"
        },
        "id": "8uXD6dXq493V",
        "outputId": "e1bf622e-52e4-42c5-9208-b224124caf90"
      },
      "outputs": [
        {
          "name": "stderr",
          "output_type": "stream",
          "text": [
            "'tensorflowjs_converter' is not recognized as an internal or external command,\n",
            "operable program or batch file.\n"
          ]
        }
      ],
      "source": [
        "!tensorflowjs_converter --input_format keras '/content/model.h5' '/content/model'"
      ]
    },
    {
      "cell_type": "code",
      "execution_count": null,
      "metadata": {
        "id": "U6YYad6z5tNr"
      },
      "outputs": [],
      "source": []
    }
  ],
  "metadata": {
    "colab": {
      "provenance": [],
      "toc_visible": true
    },
    "kernelspec": {
      "display_name": "Python 3 (ipykernel)",
      "language": "python",
      "name": "python3"
    },
    "language_info": {
      "codemirror_mode": {
        "name": "ipython",
        "version": 3
      },
      "file_extension": ".py",
      "mimetype": "text/x-python",
      "name": "python",
      "nbconvert_exporter": "python",
      "pygments_lexer": "ipython3",
      "version": "3.9.12"
    }
  },
  "nbformat": 4,
  "nbformat_minor": 0
}
