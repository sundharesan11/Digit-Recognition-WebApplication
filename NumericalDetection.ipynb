{
  "nbformat": 4,
  "nbformat_minor": 0,
  "metadata": {
    "colab": {
      "provenance": [],
      "gpuType": "T4"
    },
    "kernelspec": {
      "name": "python3",
      "display_name": "Python 3"
    },
    "language_info": {
      "name": "python"
    },
    "accelerator": "GPU",
    "gpuClass": "standard"
  },
  "cells": [
    {
      "cell_type": "markdown",
      "source": [
        "# **WebApp Deploying with Machine Learning model using tensorflow.js**"
      ],
      "metadata": {
        "id": "lqcoqqrnOHxa"
      }
    },
    {
      "cell_type": "markdown",
      "source": [
        "Importing libraries"
      ],
      "metadata": {
        "id": "XgxqU49pNXVY"
      }
    },
    {
      "cell_type": "code",
      "source": [
        "import pandas as pd\n",
        "import numpy as np\n",
        "import matplotlib.pyplot as plt\n",
        "import tensorflow as tf\n",
        "from keras.datasets import mnist\n",
        "from keras.utils import np_utils\n",
        "from keras.layers import Dense, Activation, Dropout, Flatten, MaxPooling2D,Conv2D\n",
        "from keras.models import Sequential, load_model"
      ],
      "metadata": {
        "id": "vTf_VR9TOu9P"
      },
      "execution_count": 13,
      "outputs": []
    },
    {
      "cell_type": "markdown",
      "source": [
        "Loading the dataset into training and test variable"
      ],
      "metadata": {
        "id": "fpvMXbBVSsBE"
      }
    },
    {
      "cell_type": "code",
      "source": [
        "(x_train, y_train), (x_test, y_test) = mnist.load_data()"
      ],
      "metadata": {
        "id": "DUIwMG7-Q9pB"
      },
      "execution_count": 14,
      "outputs": []
    },
    {
      "cell_type": "markdown",
      "source": [
        "Viewing the shape of the train  and test data"
      ],
      "metadata": {
        "id": "noX7mIP-Sy3p"
      }
    },
    {
      "cell_type": "code",
      "source": [
        "print(\"X_train:\", x_train.shape)\n",
        "print(\"Y_train:\", y_train.shape)\n",
        "print(\"X_test:\", x_test.shape)\n",
        "print(\"Y_test:\", y_test.shape)"
      ],
      "metadata": {
        "colab": {
          "base_uri": "https://localhost:8080/"
        },
        "id": "Dj1jG6fxSpSH",
        "outputId": "cefaccde-57d8-4716-a33f-c0ebb84d56ba"
      },
      "execution_count": 15,
      "outputs": [
        {
          "output_type": "stream",
          "name": "stdout",
          "text": [
            "X_train: (60000, 28, 28)\n",
            "Y_train: (60000,)\n",
            "X_test: (10000, 28, 28)\n",
            "Y_test: (10000,)\n"
          ]
        }
      ]
    },
    {
      "cell_type": "markdown",
      "source": [
        "## About dataset:\n",
        "> MNIST is a simple computer vision dataset. It consists of 28x28 pixel images of handwritten digits.\n",
        "\n",
        "\n",
        ">training data: 60000 samples\n",
        "\n",
        ">test data: 10000 samples"
      ],
      "metadata": {
        "id": "D2c9vSy-UrCa"
      }
    },
    {
      "cell_type": "code",
      "source": [
        "fig = plt.figure()\n",
        "for i in range(9):\n",
        "  plt.subplot(3,3, i+1)\n",
        "  plt.tight_layout()\n",
        "  plt.imshow(x_train[i])\n",
        "  plt.title(\"Digit: {}\".format(y_train[i]))\n",
        "  plt.xticks([])\n",
        "  plt.yticks([])"
      ],
      "metadata": {
        "colab": {
          "base_uri": "https://localhost:8080/",
          "height": 463
        },
        "id": "wuq2zZgJTAxL",
        "outputId": "7042ed26-b02b-4367-81c1-44339313c19d"
      },
      "execution_count": 16,
      "outputs": [
        {
          "output_type": "display_data",
          "data": {
            "text/plain": [
              "<Figure size 640x480 with 9 Axes>"
            ],
            "image/png": "[encoded data removed]"
          },
          "metadata": {}
        }
      ]
    },
    {
      "cell_type": "markdown",
      "source": [
        "## Data Preprocessing:\n",
        "> 1) Normalizing the data\n",
        "\n",
        "> 2) Encode the categories using one-hot encoding"
      ],
      "metadata": {
        "id": "ZHOIxp34c0kL"
      }
    },
    {
      "cell_type": "code",
      "source": [
        "# Normalization\n",
        "x_train = x_train/255\n",
        "x_test = x_test/255"
      ],
      "metadata": {
        "id": "URO093c5WWaS"
      },
      "execution_count": 17,
      "outputs": []
    },
    {
      "cell_type": "code",
      "source": [],
      "metadata": {
        "id": "P0DBq9JagGMk"
      },
      "execution_count": 17,
      "outputs": []
    },
    {
      "cell_type": "code",
      "source": [
        "print(np.unique(y_train))\n",
        "print(len(np.unique(y_train)))"
      ],
      "metadata": {
        "colab": {
          "base_uri": "https://localhost:8080/"
        },
        "id": "RCLeZx3PauVz",
        "outputId": "e87bb7ed-f972-465f-91f0-c7399355dd4f"
      },
      "execution_count": 18,
      "outputs": [
        {
          "output_type": "stream",
          "name": "stdout",
          "text": [
            "[0 1 2 3 4 5 6 7 8 9]\n",
            "10\n"
          ]
        }
      ]
    },
    {
      "cell_type": "markdown",
      "source": [
        "**one-hot encodin from np_utils of keras**"
      ],
      "metadata": {
        "id": "8raEhg8ugmqn"
      }
    },
    {
      "cell_type": "code",
      "source": [
        "num_class = 10\n",
        "print(\"Shape of y_train before encoding: \", y_train.shape)\n",
        "y_train = np_utils.to_categorical(y_train)\n",
        "y_test = np_utils.to_categorical(y_test)\n",
        "print(\"Shape of y_train after encoding: \", y_train.shape)"
      ],
      "metadata": {
        "colab": {
          "base_uri": "https://localhost:8080/"
        },
        "id": "X_nqae_Wfw7n",
        "outputId": "df47295a-0816-4c52-ebf0-f521e12787cf"
      },
      "execution_count": 19,
      "outputs": [
        {
          "output_type": "stream",
          "name": "stdout",
          "text": [
            "Shape of y_train before encoding:  (60000,)\n",
            "Shape of y_train after encoding:  (60000, 10)\n"
          ]
        }
      ]
    },
    {
      "cell_type": "markdown",
      "source": [
        "Building the input vector from 28x28"
      ],
      "metadata": {
        "id": "Vd6gQTcT0Ft1"
      }
    },
    {
      "cell_type": "code",
      "source": [],
      "metadata": {
        "id": "UWG5Aux0hk1Q"
      },
      "execution_count": 19,
      "outputs": []
    },
    {
      "cell_type": "markdown",
      "source": [
        "### **Building the network**"
      ],
      "metadata": {
        "id": "vSR8vyje0kZw"
      }
    },
    {
      "cell_type": "markdown",
      "source": [
        "The sequential model has two hidden 512 node layers and another densely connected layer for the 10 different output classes"
      ],
      "metadata": {
        "id": "sjToNJjk1Mfl"
      }
    },
    {
      "cell_type": "code",
      "source": [
        "x_train_deep_model = x_train.reshape((60000, 28, 28, 1)).astype('float32')\n",
        "x_test_deep_model = x_test.reshape((10000, 28, 28, 1)).astype('float32')\n",
        "deep_model = Sequential()\n",
        "deep_model.add(Conv2D(30, (5, 5), input_shape=(28, 28, 1), activation='relu'))\n",
        "deep_model.add(MaxPooling2D())\n",
        "deep_model.add(Conv2D(15, (3, 3), activation='relu'))\n",
        "deep_model.add(MaxPooling2D())\n",
        "deep_model.add(Dropout(0.2))\n",
        "deep_model.add(Flatten())\n",
        "deep_model.add(Dense(128, activation='relu'))\n",
        "deep_model.add(Dense(50, activation='relu'))\n",
        "deep_model.add(Dense(num_class, activation='softmax'))\n"
      ],
      "metadata": {
        "id": "-sX_d5u80fPL"
      },
      "execution_count": 20,
      "outputs": []
    },
    {
      "cell_type": "markdown",
      "source": [
        "### Compiling and training the model"
      ],
      "metadata": {
        "id": "yXeASiG22JnF"
      }
    },
    {
      "cell_type": "code",
      "source": [
        "deep_model.compile(loss='categorical_crossentropy', optimizer='adam', metrics=['accuracy'])\n"
      ],
      "metadata": {
        "id": "2FpS2AFD2IPu"
      },
      "execution_count": 21,
      "outputs": []
    },
    {
      "cell_type": "code",
      "source": [
        "deep_model.fit(x_train_deep_model, y_train, validation_data=(x_test_deep_model, y_test), epochs=30, batch_size=200, verbose=2)"
      ],
      "metadata": {
        "colab": {
          "base_uri": "https://localhost:8080/"
        },
        "id": "bq5PVbec2ZMR",
        "outputId": "5f75d3e3-f1b6-41fe-c852-bfe481c25561"
      },
      "execution_count": 22,
      "outputs": [
        {
          "output_type": "stream",
          "name": "stdout",
          "text": [
            "Epoch 1/30\n",
            "300/300 - 5s - loss: 0.3930 - accuracy: 0.8807 - val_loss: 0.0798 - val_accuracy: 0.9753 - 5s/epoch - 16ms/step\n",
            "Epoch 2/30\n",
            "300/300 - 1s - loss: 0.0882 - accuracy: 0.9730 - val_loss: 0.0477 - val_accuracy: 0.9851 - 1s/epoch - 4ms/step\n",
            "Epoch 3/30\n",
            "300/300 - 1s - loss: 0.0664 - accuracy: 0.9788 - val_loss: 0.0346 - val_accuracy: 0.9886 - 1s/epoch - 4ms/step\n",
            "Epoch 4/30\n",
            "300/300 - 1s - loss: 0.0521 - accuracy: 0.9841 - val_loss: 0.0292 - val_accuracy: 0.9906 - 1s/epoch - 4ms/step\n",
            "Epoch 5/30\n",
            "300/300 - 1s - loss: 0.0456 - accuracy: 0.9861 - val_loss: 0.0301 - val_accuracy: 0.9896 - 1s/epoch - 4ms/step\n",
            "Epoch 6/30\n",
            "300/300 - 1s - loss: 0.0406 - accuracy: 0.9867 - val_loss: 0.0322 - val_accuracy: 0.9884 - 1s/epoch - 4ms/step\n",
            "Epoch 7/30\n",
            "300/300 - 1s - loss: 0.0384 - accuracy: 0.9875 - val_loss: 0.0363 - val_accuracy: 0.9883 - 1s/epoch - 4ms/step\n",
            "Epoch 8/30\n",
            "300/300 - 1s - loss: 0.0335 - accuracy: 0.9894 - val_loss: 0.0243 - val_accuracy: 0.9922 - 1s/epoch - 4ms/step\n",
            "Epoch 9/30\n",
            "300/300 - 2s - loss: 0.0289 - accuracy: 0.9906 - val_loss: 0.0213 - val_accuracy: 0.9924 - 2s/epoch - 5ms/step\n",
            "Epoch 10/30\n",
            "300/300 - 2s - loss: 0.0281 - accuracy: 0.9909 - val_loss: 0.0245 - val_accuracy: 0.9910 - 2s/epoch - 7ms/step\n",
            "Epoch 11/30\n",
            "300/300 - 2s - loss: 0.0267 - accuracy: 0.9911 - val_loss: 0.0226 - val_accuracy: 0.9930 - 2s/epoch - 6ms/step\n",
            "Epoch 12/30\n",
            "300/300 - 2s - loss: 0.0239 - accuracy: 0.9920 - val_loss: 0.0224 - val_accuracy: 0.9929 - 2s/epoch - 6ms/step\n",
            "Epoch 13/30\n",
            "300/300 - 2s - loss: 0.0237 - accuracy: 0.9923 - val_loss: 0.0263 - val_accuracy: 0.9918 - 2s/epoch - 5ms/step\n",
            "Epoch 14/30\n",
            "300/300 - 1s - loss: 0.0216 - accuracy: 0.9928 - val_loss: 0.0241 - val_accuracy: 0.9926 - 1s/epoch - 4ms/step\n",
            "Epoch 15/30\n",
            "300/300 - 1s - loss: 0.0191 - accuracy: 0.9937 - val_loss: 0.0239 - val_accuracy: 0.9923 - 1s/epoch - 4ms/step\n",
            "Epoch 16/30\n",
            "300/300 - 1s - loss: 0.0186 - accuracy: 0.9939 - val_loss: 0.0255 - val_accuracy: 0.9917 - 1s/epoch - 4ms/step\n",
            "Epoch 17/30\n",
            "300/300 - 1s - loss: 0.0175 - accuracy: 0.9943 - val_loss: 0.0260 - val_accuracy: 0.9924 - 1s/epoch - 4ms/step\n",
            "Epoch 18/30\n",
            "300/300 - 1s - loss: 0.0187 - accuracy: 0.9936 - val_loss: 0.0248 - val_accuracy: 0.9925 - 1s/epoch - 4ms/step\n",
            "Epoch 19/30\n",
            "300/300 - 1s - loss: 0.0174 - accuracy: 0.9942 - val_loss: 0.0223 - val_accuracy: 0.9938 - 1s/epoch - 4ms/step\n",
            "Epoch 20/30\n",
            "300/300 - 1s - loss: 0.0157 - accuracy: 0.9947 - val_loss: 0.0241 - val_accuracy: 0.9934 - 1s/epoch - 5ms/step\n",
            "Epoch 21/30\n",
            "300/300 - 2s - loss: 0.0148 - accuracy: 0.9952 - val_loss: 0.0276 - val_accuracy: 0.9925 - 2s/epoch - 6ms/step\n",
            "Epoch 22/30\n",
            "300/300 - 2s - loss: 0.0147 - accuracy: 0.9950 - val_loss: 0.0219 - val_accuracy: 0.9936 - 2s/epoch - 6ms/step\n",
            "Epoch 23/30\n",
            "300/300 - 1s - loss: 0.0133 - accuracy: 0.9952 - val_loss: 0.0289 - val_accuracy: 0.9932 - 1s/epoch - 4ms/step\n",
            "Epoch 24/30\n",
            "300/300 - 1s - loss: 0.0134 - accuracy: 0.9958 - val_loss: 0.0249 - val_accuracy: 0.9930 - 1s/epoch - 4ms/step\n",
            "Epoch 25/30\n",
            "300/300 - 1s - loss: 0.0122 - accuracy: 0.9956 - val_loss: 0.0267 - val_accuracy: 0.9934 - 1s/epoch - 4ms/step\n",
            "Epoch 26/30\n",
            "300/300 - 1s - loss: 0.0137 - accuracy: 0.9954 - val_loss: 0.0274 - val_accuracy: 0.9923 - 1s/epoch - 4ms/step\n",
            "Epoch 27/30\n",
            "300/300 - 1s - loss: 0.0131 - accuracy: 0.9956 - val_loss: 0.0254 - val_accuracy: 0.9925 - 1s/epoch - 4ms/step\n",
            "Epoch 28/30\n",
            "300/300 - 1s - loss: 0.0128 - accuracy: 0.9957 - val_loss: 0.0253 - val_accuracy: 0.9926 - 1s/epoch - 4ms/step\n",
            "Epoch 29/30\n",
            "300/300 - 1s - loss: 0.0107 - accuracy: 0.9963 - val_loss: 0.0239 - val_accuracy: 0.9937 - 1s/epoch - 4ms/step\n",
            "Epoch 30/30\n",
            "300/300 - 1s - loss: 0.0104 - accuracy: 0.9964 - val_loss: 0.0246 - val_accuracy: 0.9936 - 1s/epoch - 5ms/step\n"
          ]
        },
        {
          "output_type": "execute_result",
          "data": {
            "text/plain": [
              "<keras.callbacks.History at 0x7fc908289180>"
            ]
          },
          "metadata": {},
          "execution_count": 22
        }
      ]
    },
    {
      "cell_type": "code",
      "source": [
        "deep_model.save(\"model.h5\")"
      ],
      "metadata": {
        "id": "tr5iIcWi22sc"
      },
      "execution_count": 23,
      "outputs": []
    },
    {
      "cell_type": "code",
      "source": [],
      "metadata": {
        "id": "yYsUnMfX3xIl"
      },
      "execution_count": 23,
      "outputs": []
    },
    {
      "cell_type": "markdown",
      "source": [
        "Converting the model to use with tensorflow.js"
      ],
      "metadata": {
        "id": "ePu5tNGm4Oek"
      }
    },
    {
      "cell_type": "code",
      "source": [],
      "metadata": {
        "id": "ENSYZ7mh4aIW"
      },
      "execution_count": 23,
      "outputs": []
    },
    {
      "cell_type": "code",
      "source": [
        "!tensorflowjs_converter --input_format keras '/content/model.h5' '/content/model'"
      ],
      "metadata": {
        "colab": {
          "base_uri": "https://localhost:8080/"
        },
        "id": "8uXD6dXq493V",
        "outputId": "7d784ce1-45d2-414c-cec1-18eac3c39210"
      },
      "execution_count": 24,
      "outputs": [
        {
          "output_type": "stream",
          "name": "stdout",
          "text": [
            "2023-05-18 07:20:59.369824: W tensorflow/compiler/tf2tensorrt/utils/py_utils.cc:38] TF-TRT Warning: Could not find TensorRT\n"
          ]
        }
      ]
    },
    {
      "cell_type": "code",
      "source": [],
      "metadata": {
        "id": "U6YYad6z5tNr"
      },
      "execution_count": 24,
      "outputs": []
    },
    {
      "cell_type": "code",
      "source": [],
      "metadata": {
        "id": "tHdNbujXYBnj"
      },
      "execution_count": 24,
      "outputs": []
    },
    {
      "cell_type": "code",
      "source": [],
      "metadata": {
        "id": "5AG0Q4-7YYVJ"
      },
      "execution_count": null,
      "outputs": []
    }
  ]
}